{
  "nbformat": 4,
  "nbformat_minor": 0,
  "metadata": {
    "colab": {
      "provenance": [],
      "gpuType": "T4",
      "authorship_tag": "ABX9TyMpk6GSF5bQFAalelWhV9vi",
      "include_colab_link": true
    },
    "kernelspec": {
      "name": "python3",
      "display_name": "Python 3"
    },
    "language_info": {
      "name": "python"
    },
    "accelerator": "GPU"
  },
  "cells": [
    {
      "cell_type": "markdown",
      "metadata": {
        "id": "view-in-github",
        "colab_type": "text"
      },
      "source": [
        "<a href=\"https://colab.research.google.com/github/ThamayanthiM/Assignment_task/blob/main/Assignment_fine_tuned_GPT_3_5.ipynb\" target=\"_parent\"><img src=\"https://colab.research.google.com/assets/colab-badge.svg\" alt=\"Open In Colab\"/></a>"
      ]
    },
    {
      "cell_type": "markdown",
      "source": [
        "# Data Generation"
      ],
      "metadata": {
        "id": "IpoB6IjusHFL"
      }
    },
    {
      "cell_type": "code",
      "source": [
        "prompt = \"A model that takes in a user's skills, interests, and preferred industries and provides tailored career advice, including possible job roles, skills to develop, and resources for further learning.\"\n",
        "temperature = .3\n",
        "number_of_examples = 50"
      ],
      "metadata": {
        "id": "R7WKZyxtpUPS"
      },
      "execution_count": null,
      "outputs": []
    },
    {
      "cell_type": "markdown",
      "source": [
        "Run this to generate the dataset."
      ],
      "metadata": {
        "id": "ARvBm45pskjh"
      }
    },
    {
      "cell_type": "code",
      "source": [
        "!pip install openai==0.28\n"
      ],
      "metadata": {
        "colab": {
          "base_uri": "https://localhost:8080/"
        },
        "id": "s6hLIEV-vHil",
        "outputId": "d9e51a0c-be31-4796-ec75-da689e4ec09f"
      },
      "execution_count": null,
      "outputs": [
        {
          "output_type": "stream",
          "name": "stdout",
          "text": [
            "Requirement already satisfied: openai==0.28 in /usr/local/lib/python3.10/dist-packages (0.28.0)\n",
            "Requirement already satisfied: requests>=2.20 in /usr/local/lib/python3.10/dist-packages (from openai==0.28) (2.32.3)\n",
            "Requirement already satisfied: tqdm in /usr/local/lib/python3.10/dist-packages (from openai==0.28) (4.66.5)\n",
            "Requirement already satisfied: aiohttp in /usr/local/lib/python3.10/dist-packages (from openai==0.28) (3.10.5)\n",
            "Requirement already satisfied: charset-normalizer<4,>=2 in /usr/local/lib/python3.10/dist-packages (from requests>=2.20->openai==0.28) (3.3.2)\n",
            "Requirement already satisfied: idna<4,>=2.5 in /usr/local/lib/python3.10/dist-packages (from requests>=2.20->openai==0.28) (3.10)\n",
            "Requirement already satisfied: urllib3<3,>=1.21.1 in /usr/local/lib/python3.10/dist-packages (from requests>=2.20->openai==0.28) (2.0.7)\n",
            "Requirement already satisfied: certifi>=2017.4.17 in /usr/local/lib/python3.10/dist-packages (from requests>=2.20->openai==0.28) (2024.8.30)\n",
            "Requirement already satisfied: aiohappyeyeballs>=2.3.0 in /usr/local/lib/python3.10/dist-packages (from aiohttp->openai==0.28) (2.4.0)\n",
            "Requirement already satisfied: aiosignal>=1.1.2 in /usr/local/lib/python3.10/dist-packages (from aiohttp->openai==0.28) (1.3.1)\n",
            "Requirement already satisfied: attrs>=17.3.0 in /usr/local/lib/python3.10/dist-packages (from aiohttp->openai==0.28) (24.2.0)\n",
            "Requirement already satisfied: frozenlist>=1.1.1 in /usr/local/lib/python3.10/dist-packages (from aiohttp->openai==0.28) (1.4.1)\n",
            "Requirement already satisfied: multidict<7.0,>=4.5 in /usr/local/lib/python3.10/dist-packages (from aiohttp->openai==0.28) (6.1.0)\n",
            "Requirement already satisfied: yarl<2.0,>=1.0 in /usr/local/lib/python3.10/dist-packages (from aiohttp->openai==0.28) (1.11.1)\n",
            "Requirement already satisfied: async-timeout<5.0,>=4.0 in /usr/local/lib/python3.10/dist-packages (from aiohttp->openai==0.28) (4.0.3)\n",
            "Requirement already satisfied: typing-extensions>=4.1.0 in /usr/local/lib/python3.10/dist-packages (from multidict<7.0,>=4.5->aiohttp->openai==0.28) (4.12.2)\n"
          ]
        }
      ]
    },
    {
      "cell_type": "code",
      "source": [
        "import os\n",
        "import openai\n",
        "import random\n",
        "from tenacity import retry, stop_after_attempt, wait_exponential\n",
        "\n",
        "openai.api_key = \"YOUR API KEY\"\n",
        "\n",
        "N_RETRIES = 3\n",
        "\n",
        "@retry(stop=stop_after_attempt(N_RETRIES), wait=wait_exponential(multiplier=1, min=4, max=70))\n",
        "def generate_example(prompt, prev_examples, temperature=.3):\n",
        "    messages=[\n",
        "        {\n",
        "            \"role\": \"system\",\n",
        "            \"content\": f\"You are generating data which will be used to train a machine learning model.\\n\\nYou will be given a high-level description of the model we want to train, and from that, you will generate data samples, each with a prompt/response pair.\\n\\nYou will do so in this format:\\n```\\nprompt\\n-----------\\n$prompt_goes_here\\n-----------\\n\\nresponse\\n-----------\\n$response_goes_here\\n-----------\\n```\\n\\nOnly one prompt/response pair should be generated per turn.\\n\\nFor each turn, make the example slightly more complex than the last, while ensuring diversity.\\n\\nMake sure your samples are unique and diverse, yet high-quality and complex enough to train a well-performing model.\\n\\nHere is the type of model we want to train:\\n`{prompt}`\"\n",
        "        }\n",
        "    ]\n",
        "\n",
        "    if len(prev_examples) > 0:\n",
        "        if len(prev_examples) > 8:\n",
        "            prev_examples = random.sample(prev_examples, 8)\n",
        "        for example in prev_examples:\n",
        "            messages.append({\n",
        "                \"role\": \"assistant\",\n",
        "                \"content\": example\n",
        "            })\n",
        "\n",
        "    response = openai.ChatCompletion.create(\n",
        "        model=\"gpt-4\",\n",
        "        messages=messages,\n",
        "        temperature=temperature,\n",
        "        max_tokens=1000,\n",
        "    )\n",
        "\n",
        "    return response.choices[0].message['content']\n",
        "\n",
        "# Generate examples\n",
        "prev_examples = []\n",
        "for i in range(number_of_examples):\n",
        "    print(f'Generating example {i}')\n",
        "    example = generate_example(prompt, prev_examples, temperature)\n",
        "    prev_examples.append(example)\n",
        "\n",
        "print(prev_examples)"
      ],
      "metadata": {
        "id": "Rdsd82ngpHCG",
        "colab": {
          "base_uri": "https://localhost:8080/"
        },
        "outputId": "809be5f5-e521-41d9-a7ce-1e560b056a60"
      },
      "execution_count": null,
      "outputs": [
        {
          "output_type": "stream",
          "name": "stdout",
          "text": [
            "Generating example 0\n",
            "Generating example 1\n",
            "Generating example 2\n",
            "Generating example 3\n",
            "Generating example 4\n",
            "Generating example 5\n",
            "Generating example 6\n",
            "Generating example 7\n",
            "Generating example 8\n",
            "Generating example 9\n",
            "Generating example 10\n",
            "Generating example 11\n",
            "Generating example 12\n",
            "Generating example 13\n",
            "Generating example 14\n",
            "Generating example 15\n",
            "Generating example 16\n",
            "Generating example 17\n",
            "Generating example 18\n",
            "Generating example 19\n",
            "Generating example 20\n",
            "Generating example 21\n",
            "Generating example 22\n",
            "Generating example 23\n",
            "Generating example 24\n",
            "Generating example 25\n",
            "Generating example 26\n",
            "Generating example 27\n",
            "Generating example 28\n",
            "Generating example 29\n",
            "Generating example 30\n",
            "Generating example 31\n",
            "Generating example 32\n",
            "Generating example 33\n",
            "Generating example 34\n",
            "Generating example 35\n",
            "Generating example 36\n",
            "Generating example 37\n",
            "Generating example 38\n",
            "Generating example 39\n",
            "Generating example 40\n",
            "Generating example 41\n",
            "Generating example 42\n",
            "Generating example 43\n",
            "Generating example 44\n",
            "Generating example 45\n",
            "Generating example 46\n",
            "Generating example 47\n",
            "Generating example 48\n",
            "Generating example 49\n",
            "['prompt\\n-----------\\nI am a recent graduate with a degree in Computer Science. I have skills in Python, Java, and C++. I am interested in software development and artificial intelligence. I prefer the tech industry. Can you give me some career advice?\\n-----------\\n\\nresponse\\n-----------\\nBased on your skills and interests, you might consider a career as a Software Developer, AI Engineer, or Data Scientist in the tech industry. To further enhance your skills, you could consider learning more about machine learning, data structures, and algorithms. Resources for further learning include online platforms like Coursera, Udemy, and edX. You could also consider attending tech meetups or hackathons to network and learn from industry professionals.', 'prompt\\n-----------\\nI have a background in finance with skills in financial analysis, budgeting, and Microsoft Excel. I am interested in the stock market and investment strategies. I prefer the finance and investment banking industry. What career advice can you provide?\\n-----------\\n\\nresponse\\n-----------\\nGiven your skills and interests, you might consider a career as a Financial Analyst, Investment Banker, or Portfolio Manager in the finance and investment banking industry. To further develop your skills, consider learning more about financial modeling, investment analysis, and risk management. Resources for further learning include online courses on platforms like Khan Academy, Coursera, or LinkedIn Learning. Additionally, joining finance-related forums or groups can provide valuable insights and networking opportunities.', 'prompt\\n-----------\\nI am a high school graduate with skills in drawing, painting, and digital art. I am interested in graphic design and animation. I prefer the entertainment and gaming industry. What career advice can you give me?\\n-----------\\n\\nresponse\\n-----------\\nBased on your skills and interests, you could consider a career as a Graphic Designer, Animator, or Concept Artist in the entertainment and gaming industry. To enhance your skills, you might want to learn more about 3D modeling, animation software like Maya or Blender, and game design. Resources for further learning include online platforms like Skillshare, Udemy, or Coursera. Participating in design competitions or joining art and design communities can also provide valuable experience and networking opportunities.', 'prompt\\n-----------\\nI have a degree in Environmental Science and skills in field research, data analysis, and GIS. I am interested in climate change and conservation. I prefer the non-profit and government sector. Can you provide some career advice?\\n-----------\\n\\nresponse\\n-----------\\nGiven your skills and interests, you might consider a career as an Environmental Scientist, Conservation Scientist, or Climate Change Analyst in the non-profit or government sector. To further develop your skills, consider learning more about environmental policy, climate modeling, and remote sensing. Resources for further learning include online courses on platforms like edX, Coursera, or FutureLearn. You might also consider joining professional organizations or attending conferences in your field for networking and staying updated with the latest research.', \"prompt\\n-----------\\nI am a college student studying Psychology. I have skills in research, data analysis, and counseling. I am interested in mental health and human behavior. I prefer the healthcare and education industry. What career advice can you suggest?\\n-----------\\n\\nresponse\\n-----------\\nBased on your skills and interests, you could consider a career as a Clinical Psychologist, Mental Health Counselor, or Behavioral Analyst in the healthcare or education industry. To enhance your skills, you might want to learn more about cognitive behavioral therapy, psychopathology, and psychological assessment. Resources for further learning include online platforms like Khan Academy, Coursera, or APA's Continuing Education series. Joining professional psychology associations or attending psychology conferences can also provide valuable networking and learning opportunities.\", 'prompt\\n-----------\\nI have a background in marketing with skills in social media management, content creation, and SEO. I am interested in digital marketing and brand management. I prefer the e-commerce and retail industry. Can you give me some career advice?\\n-----------\\n\\nresponse\\n-----------\\nGiven your skills and interests, you might consider a career as a Digital Marketing Specialist, SEO Manager, or Brand Manager in the e-commerce and retail industry. To further develop your skills, consider learning more about pay-per-click advertising, email marketing, and data analytics. Resources for further learning include online courses on platforms like Google Digital Garage, HubSpot Academy, or LinkedIn Learning. Joining marketing forums or groups on platforms like LinkedIn can also provide valuable insights and networking opportunities.', \"prompt\\n-----------\\nI am a professional chef with skills in menu planning, food preparation, and team management. I am interested in culinary arts and restaurant management. I prefer the hospitality and restaurant industry. What career advice can you provide?\\n-----------\\n\\nresponse\\n-----------\\nBased on your skills and interests, you could consider a career as a Head Chef, Restaurant Manager, or Food Service Manager in the hospitality and restaurant industry. To enhance your skills, you might want to learn more about food safety regulations, cost control, and customer service. Resources for further learning include online platforms like Coursera, Udemy, or the National Restaurant Association's ServSafe program. Attending food and beverage trade shows or joining professional culinary associations can also provide valuable networking and learning opportunities.\", 'prompt\\n-----------\\nI have a degree in Mechanical Engineering with skills in CAD, project management, and thermodynamics. I am interested in automotive design and renewable energy. I prefer the automotive and energy industry. Can you give me some career advice?\\n-----------\\n\\nresponse\\n-----------\\nGiven your skills and interests, you might consider a career as a Mechanical Engineer, Automotive Design Engineer, or Energy Engineer in the automotive and energy industry. To further develop your skills, consider learning more about electric vehicle technology, energy efficiency, and renewable energy systems. Resources for further learning include online courses on platforms like edX, Coursera, or LinkedIn Learning. Joining professional engineering societies or attending industry conferences can also provide valuable networking and learning opportunities.', \"prompt\\n-----------\\nI am a recent graduate with a degree in Journalism. I have skills in writing, editing, and social media. I am interested in news reporting and digital media. I prefer the media and publishing industry. What career advice can you suggest?\\n-----------\\n\\nresponse\\n-----------\\nBased on your skills and interests, you could consider a career as a News Reporter, Editor, or Digital Media Specialist in the media and publishing industry. To enhance your skills, you might want to learn more about investigative journalism, multimedia production, and SEO. Resources for further learning include online platforms like Coursera, Udemy, or Poynter's News University. Joining journalism networks or attending media industry events can also provide valuable networking and learning opportunities.\", 'prompt\\n-----------\\nI have a degree in Computer Science with skills in programming, data structures, and algorithms. I am interested in software development and artificial intelligence. I prefer the tech and software industry. Can you give me some career advice?\\n-----------\\n\\nresponse\\n-----------\\nGiven your skills and interests, you might consider a career as a Software Developer, AI Engineer, or Data Scientist in the tech and software industry. To further develop your skills, consider learning more about machine learning, deep learning, and cloud computing. Resources for further learning include online courses on platforms like edX, Coursera, or Codecademy. Joining coding communities like GitHub or attending tech meetups can also provide valuable networking and learning opportunities.', 'prompt\\n-----------\\nI am a college student studying Environmental Science. I have skills in field research, data analysis, and GIS. I am interested in conservation and climate change. I prefer the environmental and non-profit industry. What career advice can you suggest?\\n-----------\\n\\nresponse\\n-----------\\nBased on your skills and interests, you could consider a career as a Conservation Scientist, Environmental Analyst, or Climate Change Analyst in the environmental or non-profit industry. To enhance your skills, you might want to learn more about environmental policy, sustainability, and remote sensing. Resources for further learning include online platforms like Coursera, edX, or the ESRI Training Catalog for GIS. Joining professional environmental organizations or attending environmental science conferences can also provide valuable networking and learning opportunities.', 'prompt\\n-----------\\nI have a degree in Marketing with skills in digital marketing, social media management, and content creation. I am interested in brand management and advertising. I prefer the marketing and advertising industry. Can you provide some career advice?\\n-----------\\n\\nresponse\\n-----------\\nGiven your skills and interests, you might consider a career as a Digital Marketing Specialist, Social Media Manager, or Brand Manager in the marketing and advertising industry. To further develop your skills, consider learning more about SEO, data analytics, and advertising strategies. Resources for further learning include online courses on platforms like HubSpot Academy, Google Digital Garage, or LinkedIn Learning. Joining professional marketing associations or attending industry events can also provide valuable networking and learning opportunities.', 'prompt\\n-----------\\nI have a degree in Business Administration with skills in project management, financial analysis, and strategic planning. I am interested in entrepreneurship and business development. I prefer the finance and consulting industry. Can you provide some career advice?\\n-----------\\n\\nresponse\\n-----------\\nGiven your skills and interests, you might consider a career as a Financial Analyst, Business Consultant, or Entrepreneur in the finance and consulting industry. To further develop your skills, consider learning more about market research, business law, and risk management. Resources for further learning include online courses on platforms like Coursera, edX, or LinkedIn Learning. Joining professional business associations or attending industry events can also provide valuable networking and learning opportunities.', 'prompt\\n-----------\\nI am a graduate with a degree in Environmental Science. I have skills in field research, data analysis, and GIS. I am interested in conservation and climate change. I prefer the environmental and non-profit industry. Can you provide some career advice?\\n-----------\\n\\nresponse\\n-----------\\nGiven your skills and interests, you might consider a career as a Conservation Scientist, Environmental Analyst, or Climate Change Analyst in the environmental and non-profit industry. To further develop your skills, consider learning more about environmental policy, sustainability, and remote sensing. Resources for further learning include online courses on platforms like Coursera, edX, or LinkedIn Learning. Joining environmental organizations or attending climate change conferences can also provide valuable networking and learning opportunities.', 'prompt\\n-----------\\nI am a high school graduate with skills in creative writing, public speaking, and event planning. I am interested in literature and drama. I prefer the arts and entertainment industry. What career advice can you give me?\\n-----------\\n\\nresponse\\n-----------\\nBased on your skills and interests, you could consider a career as a Playwright, Theater Director, or Event Coordinator in the arts and entertainment industry. To enhance your skills, you might want to learn more about dramatic writing, theater production, and fundraising. Resources for further learning include online platforms like MasterClass, Coursera, or local community theater workshops. Joining drama clubs or attending theater festivals can also provide valuable networking and learning opportunities.', 'prompt\\n-----------\\nI am a graduate with a degree in Computer Science. I have skills in programming, data structures, and algorithms. I am interested in software development and artificial intelligence. I prefer the tech and software industry. Can you provide some career advice?\\n-----------\\n\\nresponse\\n-----------\\nGiven your skills and interests, you might consider a career as a Software Developer, AI Engineer, or Data Scientist in the tech and software industry. To further develop your skills, consider learning more about machine learning, deep learning, and cloud computing. Resources for further learning include online courses on platforms like Coursera, edX, or Udacity. Joining tech forums or attending AI conferences can also provide valuable networking and learning opportunities.', 'prompt\\n-----------\\nI am a recent graduate with a degree in Environmental Science. I have skills in field research, data analysis, and GIS. I am interested in conservation and climate change. I prefer the environmental and non-profit industry. What career advice can you suggest?\\n-----------\\n\\nresponse\\n-----------\\nBased on your skills and interests, you could consider a career as a Conservation Scientist, Environmental Analyst, or Climate Change Specialist in the environmental and non-profit industry. To enhance your skills, you might want to learn more about environmental policy, sustainability, and climate modeling. Resources for further learning include online platforms like Coursera, edX, or the Environmental Leadership Program. Joining environmental networks or attending climate change conferences can also provide valuable networking and learning opportunities.', 'prompt\\n-----------\\nI am a college student studying Mechanical Engineering. I have skills in CAD design, thermodynamics, and materials science. I am interested in automotive design and renewable energy. I prefer the automotive and energy industry. What career advice can you suggest?\\n-----------\\n\\nresponse\\n-----------\\nBased on your skills and interests, you could consider a career as a Mechanical Engineer, Automotive Designer, or Energy Engineer in the automotive and energy industry. To enhance your skills, you might want to learn more about aerodynamics, renewable energy systems, and advanced CAD techniques. Resources for further learning include online platforms like Coursera, edX, or Khan Academy. Joining professional engineering societies or attending industry conferences can also provide valuable networking and learning opportunities.', \"prompt\\n-----------\\nI am a professional chef with skills in menu planning, food preparation, and team management. I am interested in culinary arts and restaurant management. I prefer the hospitality and restaurant industry. What career advice can you provide?\\n-----------\\n\\nresponse\\n-----------\\nBased on your skills and interests, you could consider a career as a Head Chef, Restaurant Manager, or Food Service Manager in the hospitality and restaurant industry. To enhance your skills, you might want to learn more about food safety regulations, cost control, and customer service. Resources for further learning include online platforms like Coursera, Udemy, or the National Restaurant Association's ServSafe program. Attending food and beverage trade shows or joining professional culinary associations can also provide valuable networking and learning opportunities.\", 'prompt\\n-----------\\nI am a graduate with a degree in Mechanical Engineering. I have skills in CAD design, thermodynamics, and project management. I am interested in automotive design and renewable energy. I prefer the automotive and energy industry. Can you provide some career advice?\\n-----------\\n\\nresponse\\n-----------\\nGiven your skills and interests, you might consider a career as a Mechanical Engineer, Automotive Designer, or Energy Engineer in the automotive and energy industry. To further develop your skills, consider learning more about electric vehicle technology, energy efficiency, and materials science. Resources for further learning include online courses on platforms like Coursera, edX, or LinkedIn Learning. Joining professional engineering societies or attending industry trade shows can also provide valuable networking and learning opportunities.', 'prompt\\n-----------\\nI have a degree in Graphic Design with skills in Adobe Creative Suite, visual communication, and illustration. I am interested in branding and digital media. I prefer the design and media industry. Can you provide some career advice?\\n-----------\\n\\nresponse\\n-----------\\nGiven your skills and interests, you might consider a career as a Graphic Designer, Brand Designer, or Digital Media Specialist in the design and media industry. To further develop your skills, consider learning more about UX/UI design, motion graphics, and 3D modeling. Resources for further learning include online courses on platforms like Skillshare, Udemy, or LinkedIn Learning. Joining professional design associations or attending design conferences can also provide valuable networking and learning opportunities.', 'prompt\\n-----------\\nI am a graduate with a degree in Psychology. I have skills in counseling, research, and data analysis. I am interested in mental health and human behavior. I prefer the healthcare and education industry. Can you provide some career advice?\\n-----------\\n\\nresponse\\n-----------\\nGiven your skills and interests, you might consider a career as a Clinical Psychologist, School Counselor, or Behavioral Analyst in the healthcare and education industry. To further develop your skills, consider learning more about cognitive behavioral therapy, child development, and special education. Resources for further learning include online courses on platforms like Coursera, edX, or Khan Academy. Joining professional psychology associations or attending psychology conferences can also provide valuable networking and learning opportunities.', 'prompt\\n-----------\\nI am a graduate with a degree in Computer Science. I have skills in programming, data structures, and algorithms. I am interested in software development and artificial intelligence. I prefer the tech and software industry. Can you provide some career advice?\\n-----------\\n\\nresponse\\n-----------\\nGiven your skills and interests, you might consider a career as a Software Developer, AI Engineer, or Data Scientist in the tech and software industry. To further develop your skills, consider learning more about machine learning, cloud computing, and big data analytics. Resources for further learning include online courses on platforms like Coursera, edX, or Codecademy. Joining tech-related forums or groups on platforms like GitHub can also provide valuable insights and networking opportunities.', 'prompt\\n-----------\\nI am a professional with a background in Marketing. I have skills in digital marketing, SEO, and content creation. I am interested in e-commerce and social media marketing. I prefer the retail and advertising industry. Can you provide some career advice?\\n-----------\\n\\nresponse\\n-----------\\nGiven your skills and interests, you might consider a career as a Digital Marketing Specialist, SEO Manager, or Content Strategist in the retail and advertising industry. To further develop your skills, consider learning more about pay-per-click advertising, social media analytics, and e-commerce strategies. Resources for further learning include online courses on platforms like Google Digital Garage, Coursera, or LinkedIn Learning. Joining marketing associations or attending digital marketing conferences can also provide valuable networking and learning opportunities.', 'prompt\\n-----------\\nI am a graduate with a degree in Business Administration. I have skills in project management, financial analysis, and strategic planning. I am interested in entrepreneurship and business development. I prefer the finance and consulting industry. Can you provide some career advice?\\n-----------\\n\\nresponse\\n-----------\\nGiven your skills and interests, you might consider a career as a Financial Analyst, Business Consultant, or Entrepreneur in the finance and consulting industry. To further develop your skills, consider learning more about investment strategies, business law, and data analytics. Resources for further learning include online courses on platforms like Coursera, edX, or LinkedIn Learning. Joining business networks or attending entrepreneurship workshops can also provide valuable networking and learning opportunities.', 'prompt\\n-----------\\nI am a graduate with a degree in Psychology. I have skills in counseling, research, and data analysis. I am interested in mental health and human resources. I prefer the healthcare and corporate industry. Can you provide some career advice?\\n-----------\\n\\nresponse\\n-----------\\nGiven your skills and interests, you might consider a career as a Mental Health Counselor, HR Specialist, or Organizational Psychologist in the healthcare and corporate industry. To further develop your skills, consider learning more about cognitive behavioral therapy, conflict resolution, and employee engagement strategies. Resources for further learning include online courses on platforms like Coursera, edX, or LinkedIn Learning. Joining professional psychology associations or attending HR workshops can also provide valuable networking and learning opportunities.', 'prompt\\n-----------\\nI am a college student studying Biology. I have skills in laboratory techniques, research, and data analysis. I am interested in genetics and molecular biology. I prefer the biotechnology and pharmaceutical industry. What career advice can you suggest?\\n-----------\\n\\nresponse\\n-----------\\nBased on your skills and interests, you could consider a career as a Geneticist, Molecular Biologist, or Bioinformatics Analyst in the biotechnology or pharmaceutical industry. To enhance your skills, you might want to learn more about genetic engineering, bioinformatics, and drug discovery. Resources for further learning include online platforms like Coursera, edX, or Khan Academy. Joining professional biology societies or attending scientific conferences can also provide valuable networking and learning opportunities.', 'prompt\\n-----------\\nI have a background in business management with skills in project management, strategic planning, and leadership. I am interested in entrepreneurship and business development. I prefer the startup and consulting industry. What career advice can you provide?\\n-----------\\n\\nresponse\\n-----------\\nGiven your skills and interests, you might consider a career as a Business Development Manager, Startup Founder, or Management Consultant in the startup and consulting industry. To further develop your skills, consider learning more about financial modeling, digital marketing, and venture capital. Resources for further learning include online courses on platforms like Coursera, edX, or LinkedIn Learning. Joining entrepreneurship networks or attending startup events can also provide valuable networking and learning opportunities.', \"prompt\\n-----------\\nI am a professional with a background in graphic design. I have skills in Adobe Creative Suite, visual communication, and branding. I am interested in digital media and advertising. I prefer the media and advertising industry. What career advice can you provide?\\n-----------\\n\\nresponse\\n-----------\\nBased on your skills and interests, you could consider a career as a Graphic Designer, Art Director, or Branding Specialist in the media and advertising industry. To enhance your skills, you might want to learn more about user experience (UX) design, motion graphics, and digital marketing. Resources for further learning include online platforms like Coursera, Udemy, or Adobe's own tutorials. Joining professional design associations or attending design conferences can also provide valuable networking and learning opportunities.\", 'prompt\\n-----------\\nI am a college student studying Computer Science. I have skills in programming, data structures, and algorithms. I am interested in artificial intelligence and machine learning. I prefer the technology and software industry. What career advice can you suggest?\\n-----------\\n\\nresponse\\n-----------\\nBased on your skills and interests, you could consider a career as a Software Engineer, Data Scientist, or Machine Learning Engineer in the technology and software industry. To enhance your skills, you might want to learn more about deep learning, natural language processing, and AI frameworks like TensorFlow or PyTorch. Resources for further learning include online platforms like Coursera, edX, or Kaggle. Joining AI communities or attending tech meetups can also provide valuable networking and learning opportunities.', 'prompt\\n-----------\\nI am a professional with a background in Computer Science. I have skills in programming, data structures, and algorithms. I am interested in artificial intelligence and machine learning. I prefer the technology and software industry. What career advice can you provide?\\n-----------\\n\\nresponse\\n-----------\\nBased on your skills and interests, you could consider a career as a Software Engineer, AI Specialist, or Machine Learning Engineer in the technology and software industry. To enhance your skills, you might want to learn more about deep learning, natural language processing, and cloud computing. Resources for further learning include online platforms like Coursera, edX, or Codecademy. Joining AI and machine learning communities or attending tech conferences can also provide valuable networking and learning opportunities.', 'prompt\\n-----------\\nI am a professional with a background in Finance. I have skills in financial analysis, budgeting, and risk management. I am interested in investment and corporate finance. I prefer the banking and financial services industry. Can you provide some career advice?\\n-----------\\n\\nresponse\\n-----------\\nGiven your skills and interests, you might consider a career as a Financial Analyst, Investment Banker, or Risk Manager in the banking and financial services industry. To further develop your skills, consider learning more about financial modeling, portfolio management, and financial regulations. Resources for further learning include online courses on platforms like Coursera, edX, or LinkedIn Learning. Joining finance associations or attending finance conferences can also provide valuable networking and learning opportunities.', 'prompt\\n-----------\\nI am a professional with a background in computer science. I have skills in programming, data structures, and algorithms. I am interested in artificial intelligence and machine learning. I prefer the technology and software industry. What career advice can you provide?\\n-----------\\n\\nresponse\\n-----------\\nBased on your skills and interests, you could consider a career as a Software Developer, Data Scientist, or Machine Learning Engineer in the technology and software industry. To enhance your skills, you might want to learn more about Python, TensorFlow, and deep learning. Resources for further learning include online platforms like Coursera, edX, or Kaggle. Joining AI or machine learning communities, or attending tech meetups can also provide valuable networking and learning opportunities.', \"prompt\\n-----------\\nI am a professional with a background in marketing. I have skills in digital marketing, SEO, and content creation. I am interested in e-commerce and social media. I prefer the retail and e-commerce industry. What career advice can you provide?\\n-----------\\n\\nresponse\\n-----------\\nBased on your skills and interests, you could consider a career as a Digital Marketing Specialist, SEO Manager, or E-commerce Manager in the retail and e-commerce industry. To enhance your skills, you might want to learn more about pay-per-click advertising, social media analytics, and e-commerce platforms. Resources for further learning include online platforms like Google's Skillshop, Coursera, or Udemy. Joining professional marketing associations or attending digital marketing conferences can also provide valuable networking and learning opportunities.\", 'prompt\\n-----------\\nI am a professional with a background in Finance. I have skills in financial analysis, risk management, and portfolio management. I am interested in investment banking and financial planning. I prefer the banking and finance industry. Can you provide some career advice?\\n-----------\\n\\nresponse\\n-----------\\nGiven your skills and interests, you might consider a career as a Financial Analyst, Risk Manager, or Investment Banker in the banking and finance industry. To further develop your skills, consider learning more about financial modeling, investment strategies, and regulatory compliance. Resources for further learning include online courses on platforms like Coursera, edX, or LinkedIn Learning. Joining professional finance associations or attending finance conferences can also provide valuable networking and learning opportunities.', 'prompt\\n-----------\\nI am a professional with a background in Computer Science. I have skills in programming, data analysis, and machine learning. I am interested in artificial intelligence and data science. I prefer the tech and software industry. What career advice can you provide?\\n-----------\\n\\nresponse\\n-----------\\nBased on your skills and interests, you could consider a career as a Data Scientist, Machine Learning Engineer, or AI Specialist in the tech and software industry. To enhance your skills, you might want to learn more about deep learning, natural language processing, and cloud computing. Resources for further learning include online platforms like Coursera, edX, or DataCamp. Joining professional tech associations or attending AI and data science conferences can also provide valuable networking and learning opportunities.', 'prompt\\n-----------\\nI am a graduate with a degree in Graphic Design. I have skills in Adobe Creative Suite, visual communication, and web design. I am interested in branding and digital media. I prefer the advertising and media industry. Can you provide some career advice?\\n-----------\\n\\nresponse\\n-----------\\nGiven your skills and interests, you might consider a career as a Graphic Designer, Brand Designer, or Web Designer in the advertising and media industry. To further develop your skills, consider learning more about UX/UI design, motion graphics, and digital marketing. Resources for further learning include online courses on platforms like Coursera, LinkedIn Learning, or Skillshare. Joining design communities or attending design conferences can also provide valuable networking and learning opportunities.', \"prompt\\n-----------\\nI am a professional with a background in graphic design. I have skills in Adobe Creative Suite, web design, and branding. I am interested in digital media and advertising. I prefer the media and advertising industry. What career advice can you provide?\\n-----------\\n\\nresponse\\n-----------\\nBased on your skills and interests, you could consider a career as a Graphic Designer, Web Designer, or Art Director in the media and advertising industry. To enhance your skills, you might want to learn more about UX/UI design, motion graphics, and digital marketing. Resources for further learning include online platforms like Adobe's own tutorials, Coursera, or Skillshare. Joining professional design associations or attending design conferences can also provide valuable networking and learning opportunities.\", 'prompt\\n-----------\\nI am a professional with a background in Computer Science. I have skills in programming, data analysis, and machine learning. I am interested in artificial intelligence and data science. I prefer the tech and software industry. Can you provide some career advice?\\n-----------\\n\\nresponse\\n-----------\\nGiven your skills and interests, you might consider a career as a Data Scientist, Machine Learning Engineer, or AI Specialist in the tech and software industry. To further develop your skills, consider learning more about deep learning, natural language processing, and cloud computing. Resources for further learning include online courses on platforms like Coursera, edX, or DataCamp. Joining AI or data science communities or attending tech conferences can also provide valuable networking and learning opportunities.', 'prompt\\n-----------\\nI have a degree in Environmental Science with skills in research, data analysis, and GIS. I am interested in conservation and climate change. I prefer the environmental and conservation industry. Can you provide some career advice?\\n-----------\\n\\nresponse\\n-----------\\nGiven your skills and interests, you might consider a career as a Conservation Scientist, Environmental Analyst, or Climate Change Specialist in the environmental and conservation industry. To further develop your skills, consider learning more about environmental policy, sustainability, and remote sensing. Resources for further learning include online courses on platforms like Coursera, edX, or LinkedIn Learning. Joining environmental organizations or attending conservation conferences can also provide valuable networking and learning opportunities.', 'prompt\\n-----------\\nI am a graduate with a degree in Psychology. I have skills in research, data analysis, and counseling. I am interested in mental health and human behavior. I prefer the healthcare and social services industry. Can you provide some career advice?\\n-----------\\n\\nresponse\\n-----------\\nGiven your skills and interests, you might consider a career as a Clinical Psychologist, Mental Health Counselor, or Behavioral Analyst in the healthcare and social services industry. To further develop your skills, consider learning more about cognitive-behavioral therapy, psychopharmacology, and neuropsychology. Resources for further learning include online courses on platforms like Coursera, edX, or Khan Academy. Joining professional psychology associations or attending industry conferences can also provide valuable networking and learning opportunities.', 'prompt\\n-----------\\nI am a graduate with a degree in Graphic Design. I have skills in Adobe Creative Suite, visual communication, and web design. I am interested in branding and digital media. I prefer the advertising and marketing industry. Can you provide some career advice?\\n-----------\\n\\nresponse\\n-----------\\nGiven your skills and interests, you might consider a career as a Graphic Designer, Brand Designer, or Web Designer in the advertising and marketing industry. To further develop your skills, consider learning more about UX/UI design, motion graphics, and digital marketing. Resources for further learning include online courses on platforms like Coursera, Udemy, or Skillshare. Joining design networks or attending design conferences can also provide valuable networking and learning opportunities.', 'prompt\\n-----------\\nI am a professional with a background in Finance. I have skills in financial analysis, risk management, and portfolio management. I am interested in investment banking and financial consulting. I prefer the banking and finance industry. What career advice can you provide?\\n-----------\\n\\nresponse\\n-----------\\nBased on your skills and interests, you could consider a career as an Investment Banker, Financial Consultant, or Risk Manager in the banking and finance industry. To enhance your skills, you might want to learn more about financial modeling, corporate finance, and financial regulations. Resources for further learning include online platforms like Coursera, edX, or the CFA Institute. Joining finance associations or attending finance industry events can also provide valuable networking and learning opportunities.', 'prompt\\n-----------\\nI am a professional with a background in Human Resources. I have skills in recruitment, employee relations, and performance management. I am interested in talent acquisition and organizational development. I prefer the tech and startup industry. Can you provide some career advice?\\n-----------\\n\\nresponse\\n-----------\\nGiven your skills and interests, you might consider a career as a Talent Acquisition Specialist, HR Manager, or Organizational Development Consultant in the tech and startup industry. To further develop your skills, consider learning more about HR analytics, diversity and inclusion, and change management. Resources for further learning include online courses on platforms like Coursera, edX, or LinkedIn Learning. Joining HR associations or attending HR conferences can also provide valuable networking and learning opportunities.', 'prompt\\n-----------\\nI am a professional with a background in Business Administration. I have skills in project management, strategic planning, and business analysis. I am interested in entrepreneurship and business consulting. I prefer the business and consulting industry. Can you provide some career advice?\\n-----------\\n\\nresponse\\n-----------\\nGiven your skills and interests, you might consider a career as a Business Consultant, Project Manager, or Entrepreneur in the business and consulting industry. To further develop your skills, consider learning more about financial management, business law, and digital marketing. Resources for further learning include online courses on platforms like Coursera, edX, or Harvard Business School Online. Joining business networks or attending business conferences can also provide valuable networking and learning opportunities.', 'prompt\\n-----------\\nI am a professional with a background in Environmental Science. I have skills in research, data analysis, and project management. I am interested in sustainability and conservation. I prefer the environmental and non-profit industry. What career advice can you provide?\\n-----------\\n\\nresponse\\n-----------\\nBased on your skills and interests, you could consider a career as a Conservation Scientist, Environmental Consultant, or Sustainability Manager in the environmental and non-profit industry. To enhance your skills, you might want to learn more about environmental policy, GIS, and climate change. Resources for further learning include online platforms like Coursera, edX, or the Environmental Defense Fund. Joining environmental associations or attending sustainability conferences can also provide valuable networking and learning opportunities.', 'prompt\\n-----------\\nI am a graduate with a degree in Marketing. I have skills in digital marketing, SEO, and content creation. I am interested in social media marketing and brand management. I prefer the advertising and media industry. Can you provide some career advice?\\n-----------\\n\\nresponse\\n-----------\\nGiven your skills and interests, you might consider a career as a Digital Marketing Specialist, SEO Manager, or Brand Manager in the advertising and media industry. To further develop your skills, consider learning more about social media analytics, influencer marketing, and graphic design. Resources for further learning include online courses on platforms like Coursera, edX, or Udemy. Joining marketing associations or attending marketing conferences can also provide valuable networking and learning opportunities.', 'prompt\\n-----------\\nI am a graduate in Psychology with skills in research, data analysis, and counseling. I am interested in mental health and human behavior. I prefer the healthcare and social services industry. Can you provide some career advice?\\n-----------\\n\\nresponse\\n-----------\\nGiven your skills and interests, you might consider a career as a Clinical Psychologist, Mental Health Counselor, or Behavioral Analyst in the healthcare and social services industry. To further develop your skills, consider learning more about cognitive-behavioral therapy, psychopathology, and neuropsychology. Resources for further learning include online courses on platforms like Coursera, edX, or Khan Academy. Joining professional psychology organizations or attending psychology conferences can also provide valuable networking and learning opportunities.', 'prompt\\n-----------\\nI am a college student studying Business Administration. I have skills in project management, financial analysis, and marketing. I am interested in entrepreneurship and e-commerce. I prefer the retail and technology industry. What career advice can you suggest?\\n-----------\\n\\nresponse\\n-----------\\nBased on your skills and interests, you could consider a career as an E-commerce Manager, Business Analyst, or Entrepreneur in the retail and technology industry. To enhance your skills, you might want to learn more about digital marketing, SEO, and supply chain management. Resources for further learning include online platforms like Coursera, edX, or the Small Business Administration. Joining entrepreneurial networks or attending business conferences can also provide valuable networking and learning opportunities.', 'prompt\\n-----------\\nI am a college student studying Computer Science. I have skills in programming, data structures, and algorithms. I am interested in cybersecurity and data privacy. I prefer the technology and security industry. What career advice can you suggest?\\n-----------\\n\\nresponse\\n-----------\\nBased on your skills and interests, you could consider a career as a Cybersecurity Analyst, Information Security Specialist, or Data Privacy Officer in the technology and security industry. To enhance your skills, you might want to learn more about network security, cryptography, and ethical hacking. Resources for further learning include online platforms like Coursera, edX, or Cybrary. Joining cybersecurity organizations or attending security conferences can also provide valuable networking and learning opportunities.']\n"
          ]
        }
      ]
    },
    {
      "cell_type": "markdown",
      "source": [
        "# We also need to generate a system message."
      ],
      "metadata": {
        "id": "fvny_TUAw5Cb"
      }
    },
    {
      "cell_type": "code",
      "source": [
        "def generate_system_message(prompt):\n",
        "\n",
        "    response = openai.ChatCompletion.create(\n",
        "        model=\"gpt-4\",\n",
        "        messages=[\n",
        "          {\n",
        "            \"role\": \"system\",\n",
        "            \"content\": \"You will be given a high-level description of the model we are training, and from that, you will generate a simple system prompt for that model to use. Remember, you are not generating the system message for data generation -- you are generating the system message to use for inference. A good format to follow is `Given $INPUT_DATA, you will $WHAT_THE_MODEL_SHOULD_DO.`.\\n\\nMake it as concise as possible. Include nothing but the system prompt in your response.\\n\\nFor example, never write: `\\\"$SYSTEM_PROMPT_HERE\\\"`.\\n\\nIt should be like: `$SYSTEM_PROMPT_HERE`.\"\n",
        "          },\n",
        "          {\n",
        "              \"role\": \"user\",\n",
        "              \"content\": prompt.strip(),\n",
        "          }\n",
        "        ],\n",
        "        temperature=temperature,\n",
        "        max_tokens=500,\n",
        "    )\n",
        "\n",
        "    return response.choices[0].message['content']\n",
        "\n",
        "system_message = generate_system_message(prompt)\n",
        "\n",
        "print(f'The system message is: `{system_message}`. Feel free to re-run this cell if you want a better result.')"
      ],
      "metadata": {
        "id": "xMcfhW6Guh2E",
        "colab": {
          "base_uri": "https://localhost:8080/"
        },
        "outputId": "3977b572-b1d1-4fdd-983b-d37ae6323ff0"
      },
      "execution_count": null,
      "outputs": [
        {
          "output_type": "stream",
          "name": "stdout",
          "text": [
            "The system message is: `Given your skills, interests, and preferred industries, the model will provide tailored career advice, including possible job roles, skills to develop, and resources for further learning.`. Feel free to re-run this cell if you want a better result.\n"
          ]
        }
      ]
    },
    {
      "cell_type": "markdown",
      "source": [
        "Now let's put our examples into a dataframe and turn them into a final pair of datasets."
      ],
      "metadata": {
        "id": "G6BqZ-hjseBF"
      }
    },
    {
      "cell_type": "code",
      "source": [
        "import json\n",
        "import pandas as pd\n",
        "\n",
        "# Initialize lists to store prompts and responses\n",
        "prompts = []\n",
        "responses = []\n",
        "\n",
        "# Parse out prompts and responses from examples\n",
        "for example in prev_examples:\n",
        "  try:\n",
        "    split_example = example.split('-----------')\n",
        "    prompts.append(split_example[1].strip())\n",
        "    responses.append(split_example[3].strip())\n",
        "  except:\n",
        "    pass\n",
        "\n",
        "# Create a DataFrame\n",
        "df = pd.DataFrame({\n",
        "    'prompt': prompts,\n",
        "    'response': responses\n",
        "})\n",
        "\n",
        "# Remove duplicates\n",
        "df = df.drop_duplicates()\n",
        "\n",
        "print('There are ' + str(len(df)) + ' successfully-generated examples.')\n",
        "\n",
        "# Initialize list to store training examples\n",
        "training_examples = []\n",
        "\n",
        "# Create training examples in the format required for GPT-3.5 fine-tuning\n",
        "for index, row in df.iterrows():\n",
        "    training_example = {\n",
        "        \"messages\": [\n",
        "            {\"role\": \"system\", \"content\": system_message.strip()},\n",
        "            {\"role\": \"user\", \"content\": row['prompt']},\n",
        "            {\"role\": \"assistant\", \"content\": row['response']}\n",
        "        ]\n",
        "    }\n",
        "    training_examples.append(training_example)\n",
        "\n",
        "# Save training examples to a .jsonl file\n",
        "with open('training_examples.jsonl', 'w') as f:\n",
        "    for example in training_examples:\n",
        "        f.write(json.dumps(example) + '\\n')"
      ],
      "metadata": {
        "id": "7CEdkYeRsdmB",
        "colab": {
          "base_uri": "https://localhost:8080/"
        },
        "outputId": "c7b8490c-975f-4168-9c59-61d90d8701f8"
      },
      "execution_count": null,
      "outputs": [
        {
          "output_type": "stream",
          "name": "stdout",
          "text": [
            "There are 49 successfully-generated examples.\n"
          ]
        }
      ]
    },
    {
      "cell_type": "markdown",
      "source": [
        "# Upload the file to OpenAI"
      ],
      "metadata": {
        "id": "KWTY6qVgXD_T"
      }
    },
    {
      "cell_type": "code",
      "source": [
        "file_id = openai.File.create(\n",
        "  file=open(\"/content/training_examples.jsonl\", \"rb\"),\n",
        "  purpose='fine-tune'\n",
        ").id\n",
        "\n",
        "print(f'File uploaded successfully! The file ID is: {file_id}')"
      ],
      "metadata": {
        "id": "4LjEUrI9XDgT",
        "colab": {
          "base_uri": "https://localhost:8080/"
        },
        "outputId": "0f8678ea-4f7b-4908-db9e-aa72c5f3c47c"
      },
      "execution_count": null,
      "outputs": [
        {
          "output_type": "stream",
          "name": "stdout",
          "text": [
            "File uploaded successfully! The file ID is: file-I7Qg5Wth74xBCv0GrMnUaHLp\n"
          ]
        }
      ]
    },
    {
      "cell_type": "markdown",
      "source": [
        "# Train the model! You may need to wait a few minutes before running the next cell to allow for the file to process on OpenAI's servers."
      ],
      "metadata": {
        "id": "HmYRIq8dW9IR"
      }
    },
    {
      "cell_type": "code",
      "source": [
        "job = openai.FineTuningJob.create(training_file=file_id, model=\"gpt-3.5-turbo\")\n",
        "\n",
        "job_id = job.id"
      ],
      "metadata": {
        "id": "rdEyXmkoW80I"
      },
      "execution_count": null,
      "outputs": []
    },
    {
      "cell_type": "code",
      "source": [
        "# Retrieve the status of the fine-tuning job\n",
        "status = openai.FineTuningJob.retrieve(id=job_id)\n",
        "print(status)"
      ],
      "metadata": {
        "colab": {
          "base_uri": "https://localhost:8080/"
        },
        "id": "u5lKneAD1B2J",
        "outputId": "2578906d-f677-47f6-8bce-234b08b39b85"
      },
      "execution_count": null,
      "outputs": [
        {
          "output_type": "stream",
          "name": "stdout",
          "text": [
            "{\n",
            "  \"object\": \"fine_tuning.job\",\n",
            "  \"id\": \"ftjob-46WhkclGwhtXRjHYZYFak26u\",\n",
            "  \"model\": \"gpt-3.5-turbo-0125\",\n",
            "  \"created_at\": 1726808855,\n",
            "  \"finished_at\": 1726809296,\n",
            "  \"fine_tuned_model\": \"ft:gpt-3.5-turbo-0125:flipick::A9QGosxf\",\n",
            "  \"organization_id\": \"org-CZPNgOwyHPUGaC7iFdns5LJZ\",\n",
            "  \"result_files\": [\n",
            "    \"file-mtR1JSwMC9bcOuLubTeLosm1\"\n",
            "  ],\n",
            "  \"status\": \"succeeded\",\n",
            "  \"validation_file\": null,\n",
            "  \"training_file\": \"file-I7Qg5Wth74xBCv0GrMnUaHLp\",\n",
            "  \"hyperparameters\": {\n",
            "    \"n_epochs\": 3,\n",
            "    \"batch_size\": 1,\n",
            "    \"learning_rate_multiplier\": 2\n",
            "  },\n",
            "  \"trained_tokens\": 27156,\n",
            "  \"error\": {},\n",
            "  \"user_provided_suffix\": null,\n",
            "  \"seed\": 1445945002,\n",
            "  \"estimated_finish\": null,\n",
            "  \"integrations\": []\n",
            "}\n"
          ]
        }
      ]
    },
    {
      "cell_type": "markdown",
      "source": [
        "# Now, just wait until the fine-tuning run is done, and you'll have a ready-to-use model!\n",
        "\n"
      ],
      "metadata": {
        "id": "XUSX5QzmZMTd"
      }
    },
    {
      "cell_type": "code",
      "source": [
        "events = openai.FineTuningJob.list_events(id=job_id, limit=10)\n",
        "# Print the events\n",
        "for event in events['data']:\n",
        "    print(f\"Event Type: {event['type']}, Timestamp: {event['created_at']}, Message: {event['message']}\")"
      ],
      "metadata": {
        "colab": {
          "base_uri": "https://localhost:8080/"
        },
        "id": "O0xfqfpaygzg",
        "outputId": "93ebf300-cfe2-486a-9e50-0b0a4629c98d"
      },
      "execution_count": null,
      "outputs": [
        {
          "output_type": "stream",
          "name": "stdout",
          "text": [
            "Event Type: message, Timestamp: 1726809301, Message: The job has successfully completed\n",
            "Event Type: message, Timestamp: 1726809298, Message: New fine-tuned model created\n",
            "Event Type: message, Timestamp: 1726809298, Message: Checkpoint created at step 98\n",
            "Event Type: message, Timestamp: 1726809298, Message: Checkpoint created at step 49\n",
            "Event Type: metrics, Timestamp: 1726809282, Message: Step 147/147: training loss=0.15\n",
            "Event Type: metrics, Timestamp: 1726809275, Message: Step 146/147: training loss=0.23\n",
            "Event Type: metrics, Timestamp: 1726809271, Message: Step 145/147: training loss=0.21\n",
            "Event Type: metrics, Timestamp: 1726809271, Message: Step 144/147: training loss=0.10\n",
            "Event Type: metrics, Timestamp: 1726809271, Message: Step 143/147: training loss=0.22\n",
            "Event Type: metrics, Timestamp: 1726809271, Message: Step 142/147: training loss=0.13\n"
          ]
        }
      ]
    },
    {
      "cell_type": "code",
      "source": [
        "events"
      ],
      "metadata": {
        "colab": {
          "base_uri": "https://localhost:8080/"
        },
        "id": "wGkNQ5gg6CGy",
        "outputId": "60b1235c-69c3-4625-db62-f06321b0404b"
      },
      "execution_count": null,
      "outputs": [
        {
          "output_type": "execute_result",
          "data": {
            "text/plain": [
              "<OpenAIObject list at 0x7b42a6233ec0> JSON: {\n",
              "  \"object\": \"list\",\n",
              "  \"data\": [\n",
              "    {\n",
              "      \"object\": \"fine_tuning.job.event\",\n",
              "      \"id\": \"ftevent-JyVtOK1eh8GNNXPNEJfwoAdy\",\n",
              "      \"created_at\": 1726809301,\n",
              "      \"level\": \"info\",\n",
              "      \"message\": \"The job has successfully completed\",\n",
              "      \"data\": {},\n",
              "      \"type\": \"message\"\n",
              "    },\n",
              "    {\n",
              "      \"object\": \"fine_tuning.job.event\",\n",
              "      \"id\": \"ftevent-1Te4zzs21LrdH1PEzYTiEVu5\",\n",
              "      \"created_at\": 1726809298,\n",
              "      \"level\": \"info\",\n",
              "      \"message\": \"New fine-tuned model created\",\n",
              "      \"data\": {},\n",
              "      \"type\": \"message\"\n",
              "    },\n",
              "    {\n",
              "      \"object\": \"fine_tuning.job.event\",\n",
              "      \"id\": \"ftevent-obSB89jQck4aqiXgHcrOPArC\",\n",
              "      \"created_at\": 1726809298,\n",
              "      \"level\": \"info\",\n",
              "      \"message\": \"Checkpoint created at step 98\",\n",
              "      \"data\": {},\n",
              "      \"type\": \"message\"\n",
              "    },\n",
              "    {\n",
              "      \"object\": \"fine_tuning.job.event\",\n",
              "      \"id\": \"ftevent-juadxginlYdADrdPgYdkNbTn\",\n",
              "      \"created_at\": 1726809298,\n",
              "      \"level\": \"info\",\n",
              "      \"message\": \"Checkpoint created at step 49\",\n",
              "      \"data\": {},\n",
              "      \"type\": \"message\"\n",
              "    },\n",
              "    {\n",
              "      \"object\": \"fine_tuning.job.event\",\n",
              "      \"id\": \"ftevent-muCJgua8IpHt2VPxToH2Rnu1\",\n",
              "      \"created_at\": 1726809282,\n",
              "      \"level\": \"info\",\n",
              "      \"message\": \"Step 147/147: training loss=0.15\",\n",
              "      \"data\": {\n",
              "        \"step\": 147,\n",
              "        \"train_loss\": 0.14971378445625305,\n",
              "        \"total_steps\": 147,\n",
              "        \"train_mean_token_accuracy\": 0.9677419066429138\n",
              "      },\n",
              "      \"type\": \"metrics\"\n",
              "    },\n",
              "    {\n",
              "      \"object\": \"fine_tuning.job.event\",\n",
              "      \"id\": \"ftevent-plnmCWrKsKQt3AZT8rCQ8bFz\",\n",
              "      \"created_at\": 1726809275,\n",
              "      \"level\": \"info\",\n",
              "      \"message\": \"Step 146/147: training loss=0.23\",\n",
              "      \"data\": {\n",
              "        \"step\": 146,\n",
              "        \"train_loss\": 0.22557184100151062,\n",
              "        \"total_steps\": 147,\n",
              "        \"train_mean_token_accuracy\": 0.9239130616188049\n",
              "      },\n",
              "      \"type\": \"metrics\"\n",
              "    },\n",
              "    {\n",
              "      \"object\": \"fine_tuning.job.event\",\n",
              "      \"id\": \"ftevent-OBiVUVrwqMWecc4UrbfEg9wl\",\n",
              "      \"created_at\": 1726809271,\n",
              "      \"level\": \"info\",\n",
              "      \"message\": \"Step 145/147: training loss=0.21\",\n",
              "      \"data\": {\n",
              "        \"step\": 145,\n",
              "        \"train_loss\": 0.21408484876155853,\n",
              "        \"total_steps\": 147,\n",
              "        \"train_mean_token_accuracy\": 0.9120879173278809\n",
              "      },\n",
              "      \"type\": \"metrics\"\n",
              "    },\n",
              "    {\n",
              "      \"object\": \"fine_tuning.job.event\",\n",
              "      \"id\": \"ftevent-toyAcUVf6qyDJzzn5iyPuSED\",\n",
              "      \"created_at\": 1726809271,\n",
              "      \"level\": \"info\",\n",
              "      \"message\": \"Step 144/147: training loss=0.10\",\n",
              "      \"data\": {\n",
              "        \"step\": 144,\n",
              "        \"train_loss\": 0.10484498739242554,\n",
              "        \"total_steps\": 147,\n",
              "        \"train_mean_token_accuracy\": 0.97826087474823\n",
              "      },\n",
              "      \"type\": \"metrics\"\n",
              "    },\n",
              "    {\n",
              "      \"object\": \"fine_tuning.job.event\",\n",
              "      \"id\": \"ftevent-UQaPpo4cBhYnzfV7vbgwQ67N\",\n",
              "      \"created_at\": 1726809271,\n",
              "      \"level\": \"info\",\n",
              "      \"message\": \"Step 143/147: training loss=0.22\",\n",
              "      \"data\": {\n",
              "        \"step\": 143,\n",
              "        \"train_loss\": 0.22155465185642242,\n",
              "        \"total_steps\": 147,\n",
              "        \"train_mean_token_accuracy\": 0.9052631855010986\n",
              "      },\n",
              "      \"type\": \"metrics\"\n",
              "    },\n",
              "    {\n",
              "      \"object\": \"fine_tuning.job.event\",\n",
              "      \"id\": \"ftevent-dCXjU64qnxfrDSQRmUaJnmlx\",\n",
              "      \"created_at\": 1726809271,\n",
              "      \"level\": \"info\",\n",
              "      \"message\": \"Step 142/147: training loss=0.13\",\n",
              "      \"data\": {\n",
              "        \"step\": 142,\n",
              "        \"train_loss\": 0.1308193802833557,\n",
              "        \"total_steps\": 147,\n",
              "        \"train_mean_token_accuracy\": 0.9583333134651184\n",
              "      },\n",
              "      \"type\": \"metrics\"\n",
              "    }\n",
              "  ],\n",
              "  \"has_more\": true\n",
              "}"
            ]
          },
          "metadata": {},
          "execution_count": 22
        }
      ]
    },
    {
      "cell_type": "markdown",
      "source": [
        "# Once your model is trained, run the next cell to grab the fine-tuned model name."
      ],
      "metadata": {
        "id": "91ihW2O27Phl"
      }
    },
    {
      "cell_type": "code",
      "source": [
        "model_name_pre_object = openai.FineTuningJob.retrieve(job_id)\n",
        "model_name = model_name_pre_object.fine_tuned_model\n",
        "print(model_name)"
      ],
      "metadata": {
        "colab": {
          "base_uri": "https://localhost:8080/"
        },
        "id": "3RTI-tyFy4Fd",
        "outputId": "fced0014-e13e-447f-d224-4319e5c7ba48",
        "collapsed": true
      },
      "execution_count": null,
      "outputs": [
        {
          "output_type": "stream",
          "name": "stdout",
          "text": [
            "ft:gpt-3.5-turbo-0125:flipick::A9QGosxf\n"
          ]
        }
      ]
    },
    {
      "cell_type": "markdown",
      "source": [
        "# Let's try it out!"
      ],
      "metadata": {
        "id": "2OmZLoBX7oQM"
      }
    },
    {
      "cell_type": "code",
      "source": [
        "response = openai.ChatCompletion.create(\n",
        "    model=model_name,\n",
        "    messages=[\n",
        "      {\n",
        "        \"role\": \"system\",\n",
        "        \"content\": system_message,\n",
        "      },\n",
        "      {\n",
        "          \"role\": \"user\",\n",
        "          \"content\": df['prompt'].sample().values[0],\n",
        "      }\n",
        "    ],\n",
        ")\n",
        "\n",
        "response.choices[0].message['content']"
      ],
      "metadata": {
        "id": "uxbrmzc5dMuC",
        "colab": {
          "base_uri": "https://localhost:8080/",
          "height": 140
        },
        "outputId": "d3072dd9-45ef-45fa-e0b5-41deb7b259cf"
      },
      "execution_count": null,
      "outputs": [
        {
          "output_type": "execute_result",
          "data": {
            "text/plain": [
              "'Given your skills and interests, you might consider a career as a Talent Acquisition Specialist, HR Business Partner, or Organizational Development Consultant in the tech and startup industry. To further develop your skills, consider learning more about data-driven HR, diversity and inclusion, and change management. Resources for further learning include online courses on platforms like Coursera, edX, or LinkedIn Learning. Joining HR professional networks or attending industry conferences can also provide valuable networking and learning opportunities.'"
            ],
            "application/vnd.google.colaboratory.intrinsic+json": {
              "type": "string"
            }
          },
          "metadata": {},
          "execution_count": 24
        }
      ]
    }
  ]
}